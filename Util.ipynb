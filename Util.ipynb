{
 "cells": [
  {
   "cell_type": "markdown",
   "metadata": {},
   "source": [
    "# 1. Tree"
   ]
  },
  {
   "cell_type": "code",
   "execution_count": 4,
   "metadata": {},
   "outputs": [],
   "source": [
    "class Tree:\n",
    "    def __init__(self):\n",
    "        self.node=[]\n",
    "        self.depth={}\n",
    "        self.edge=[]\n",
    "        self.parent={}\n",
    "        self.child={}\n",
    "        self.root=None\n",
    "    \n",
    "    def add_edge(self,v1,v2):\n",
    "        #an arc from v1 to v2\n",
    "        if v1 not in self.node:\n",
    "            self.node.append(v1)\n",
    "        if v2 not in self.node:\n",
    "            self.node.append(v2)\n",
    "        self.edge.append((v1,v2))\n",
    "    \n",
    "    def construct_tree(self):\n",
    "        for v in self.node:\n",
    "            self.child[v]=[]\n",
    "            self.parent[v]=None\n",
    "        for (v1,v2) in self.edge:\n",
    "            self.parent[v2]=v1\n",
    "            self.child[v1].append(v2)\n",
    "    \n",
    "    def find_root(self):\n",
    "        v=self.node[0]\n",
    "        while self.parent[v]!=None:\n",
    "            v=self.parent[v]\n",
    "        self.root=v\n",
    "    \n",
    "    def find_depth(self, node, dep=0):\n",
    "        self.depth[node]=dep;\n",
    "        for child in self.child[node]:\n",
    "            self.find_depth(child,dep+1)"
   ]
  },
  {
   "cell_type": "markdown",
   "metadata": {},
   "source": [
    "# 2. Read Tree"
   ]
  },
  {
   "cell_type": "code",
   "execution_count": 7,
   "metadata": {},
   "outputs": [],
   "source": [
    "def readtrees(patient):\n",
    "    tree_file = open(\"data/input/T_%s.txt\"%patient,\"r\")\n",
    "    N_clusters=tree_file.readline().split()[1]\n",
    "    N_clusters=int(N_clusters)\n",
    "    N_trees=tree_file.readline().split()[0]\n",
    "    N_trees=int(N_trees)\n",
    "    trees=[]\n",
    "    for i in range(N_trees):\n",
    "        tree=Tree()\n",
    "        for j in range(N_clusters):\n",
    "            line=tree_file.readline()\n",
    "            if j==0: continue\n",
    "            v1,v2=line.rstrip(\"\\n\").split()\n",
    "            tree.add_edge(v1,v2)\n",
    "        tree.construct_tree()\n",
    "        tree.find_root()\n",
    "        tree.find_depth(tree.root)\n",
    "        trees.append(tree)\n",
    "        return trees\n",
    "trees=readtrees(\"CRUK0002\")"
   ]
  },
  {
   "cell_type": "markdown",
   "metadata": {},
   "source": []
  },
  {
   "cell_type": "code",
   "execution_count": null,
   "metadata": {},
   "outputs": [],
   "source": []
  }
 ],
 "metadata": {
  "kernelspec": {
   "display_name": "Python 2",
   "language": "python",
   "name": "python2"
  },
  "language_info": {
   "codemirror_mode": {
    "name": "ipython",
    "version": 2
   },
   "file_extension": ".py",
   "mimetype": "text/x-python",
   "name": "python",
   "nbconvert_exporter": "python",
   "pygments_lexer": "ipython2",
   "version": "2.7.12"
  }
 },
 "nbformat": 4,
 "nbformat_minor": 2
}
