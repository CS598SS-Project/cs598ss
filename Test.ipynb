{
 "cells": [
  {
   "cell_type": "code",
   "execution_count": 1,
   "metadata": {},
   "outputs": [],
   "source": [
    "from ete3 import Tree"
   ]
  },
  {
   "cell_type": "code",
   "execution_count": 3,
   "metadata": {},
   "outputs": [],
   "source": [
    "# Loads a tree structure from a newick string. The returned variable ’t’ is the root node for the tree.\n",
    "t = Tree(\"(A:1,(B:1,(E:1,D:1):0.5):0.5);\" )"
   ]
  },
  {
   "cell_type": "code",
   "execution_count": 4,
   "metadata": {},
   "outputs": [
    {
     "name": "stdout",
     "output_type": "stream",
     "text": [
      "\n",
      "   /-A\n",
      "--|\n",
      "  |   /-B\n",
      "   \\-|\n",
      "     |   /-E\n",
      "      \\-|\n",
      "         \\-D\n"
     ]
    }
   ],
   "source": [
    "print(t)"
   ]
  },
  {
   "cell_type": "code",
   "execution_count": 67,
   "metadata": {},
   "outputs": [],
   "source": [
    "t = Tree(\"((D,(X,F))E,C,(B,H)B);\", format=8)"
   ]
  },
  {
   "cell_type": "code",
   "execution_count": 68,
   "metadata": {},
   "outputs": [
    {
     "name": "stdout",
     "output_type": "stream",
     "text": [
      "[Tree node 'E' (0x12145c99), Tree node 'C' (0x12145c89), Tree node 'B' (0x12145ca9)]\n"
     ]
    }
   ],
   "source": [
    "print t.get_children()"
   ]
  },
  {
   "cell_type": "code",
   "execution_count": 72,
   "metadata": {},
   "outputs": [],
   "source": [
    "t.show()"
   ]
  },
  {
   "cell_type": "code",
   "execution_count": 70,
   "metadata": {},
   "outputs": [],
   "source": [
    "nodes = t.get_descendants()"
   ]
  },
  {
   "cell_type": "code",
   "execution_count": 71,
   "metadata": {},
   "outputs": [
    {
     "name": "stdout",
     "output_type": "stream",
     "text": [
      "E 1.0\n",
      "C 1.0\n",
      "B 1.0\n",
      "D 1.0\n",
      " 1.0\n",
      "B 1.0\n",
      "H 1.0\n",
      "X 1.0\n",
      "F 1.0\n"
     ]
    }
   ],
   "source": [
    "for node in nodes:\n",
    "    print node.name, node.dist"
   ]
  },
  {
   "cell_type": "code",
   "execution_count": 24,
   "metadata": {},
   "outputs": [],
   "source": [
    "t = Tree(\"(A, (B,(C,D)));\")"
   ]
  },
  {
   "cell_type": "code",
   "execution_count": 11,
   "metadata": {},
   "outputs": [
    {
     "name": "stdout",
     "output_type": "stream",
     "text": [
      "\n",
      "   /-A\n",
      "--|\n",
      "  |   /-B\n",
      "   \\-|\n",
      "     |   /-C\n",
      "      \\-|\n",
      "         \\-D\n"
     ]
    }
   ],
   "source": [
    "print(t)"
   ]
  },
  {
   "cell_type": "code",
   "execution_count": 35,
   "metadata": {},
   "outputs": [],
   "source": [
    "t = Tree(\"((D:0.723274,F:0.567784)1.000000:0.067192,(B:0.279326,H:0.756049)1.000000:0.807788);\", format=2)"
   ]
  },
  {
   "cell_type": "code",
   "execution_count": 39,
   "metadata": {},
   "outputs": [],
   "source": [
    "t = Tree(\"(A:0.1,B:0.2,(C:0.3,D:0.4)1:0.5)1;\")"
   ]
  },
  {
   "cell_type": "code",
   "execution_count": 40,
   "metadata": {},
   "outputs": [
    {
     "name": "stdout",
     "output_type": "stream",
     "text": [
      "\n",
      "   /-A\n",
      "  |\n",
      "--|--B\n",
      "  |\n",
      "  |   /-C\n",
      "   \\-|\n",
      "      \\-D\n"
     ]
    }
   ],
   "source": [
    "print t"
   ]
  },
  {
   "cell_type": "code",
   "execution_count": 32,
   "metadata": {},
   "outputs": [
    {
     "name": "stdout",
     "output_type": "stream",
     "text": [
      "[Tree node '' (0x12145cc5), Tree node '' (0x12145ced)]\n"
     ]
    }
   ],
   "source": [
    "print t.get_children()"
   ]
  },
  {
   "cell_type": "code",
   "execution_count": 27,
   "metadata": {},
   "outputs": [
    {
     "name": "stdout",
     "output_type": "stream",
     "text": [
      "\n",
      "      /-D\n",
      "   /-|\n",
      "  |   \\-F\n",
      "--|\n",
      "  |   /-B\n",
      "   \\-|\n",
      "      \\-H\n",
      "[Tree node '' (0x12145cc5), Tree node '' (0x12145ced)]\n",
      "[Tree node '' (0x12145cc5), Tree node '' (0x12145ced)]\n",
      "None\n",
      "\n",
      "0.0\n",
      "False\n",
      "\n",
      "      /-D\n",
      "   /-|\n",
      "  |   \\-F\n",
      "--|\n",
      "  |   /-B\n",
      "   \\-|\n",
      "      \\-H\n",
      "\n",
      "      /-D\n",
      "   /-|\n",
      "  |   \\-F\n",
      "--|\n",
      "  |   /-B\n",
      "   \\-|\n",
      "      \\-H\n",
      "\n",
      "      /-D\n",
      "   /-|\n",
      "  |   \\-F\n",
      "--|\n",
      "  |   /-B\n",
      "   \\-|\n",
      "      \\-H\n",
      "D\n",
      "F\n",
      "B\n",
      "H\n"
     ]
    }
   ],
   "source": [
    "print t\n",
    "print t.children\n",
    "print t.get_children()\n",
    "print t.up\n",
    "print t.name\n",
    "print t.dist\n",
    "print t.is_leaf()\n",
    "print t.get_tree_root()\n",
    "print t.children[0].get_tree_root()\n",
    "print t.children[0].children[0].get_tree_root()\n",
    "# You can also iterate over tree leaves using a simple syntax\n",
    "for leaf in t:\n",
    "  print leaf.name"
   ]
  },
  {
   "cell_type": "code",
   "execution_count": 20,
   "metadata": {
    "scrolled": false
   },
   "outputs": [
    {
     "name": "stdout",
     "output_type": "stream",
     "text": [
      "\n",
      "         /-aaaaaaaaac\n",
      "      /-|\n",
      "     |   \\-aaaaaaaaad\n",
      "   /-|\n",
      "  |  |   /-aaaaaaaaae\n",
      "  |   \\-|\n",
      "  |      \\-aaaaaaaaaf\n",
      "  |\n",
      "--|      /-aaaaaaaaag\n",
      "  |   /-|\n",
      "  |  |   \\-aaaaaaaaah\n",
      "  |  |\n",
      "  |  |      /-aaaaaaaaai\n",
      "   \\-|   /-|\n",
      "     |  |  |   /-aaaaaaaaaj\n",
      "     |  |   \\-|\n",
      "     |  |      \\-aaaaaaaaak\n",
      "     |  |\n",
      "      \\-|      /-aaaaaaaaal\n",
      "        |   /-|\n",
      "        |  |  |   /-aaaaaaaaam\n",
      "        |  |   \\-|\n",
      "        |  |     |   /-aaaaaaaaan\n",
      "         \\-|      \\-|\n",
      "           |         \\-aaaaaaaaao\n",
      "           |\n",
      "           |   /-aaaaaaaaaa\n",
      "            \\-|\n",
      "               \\-aaaaaaaaab\n",
      "[Tree node '' (0x12145c35), Tree node '' (0x12145c41)]\n",
      "[Tree node '' (0x12145c35), Tree node '' (0x12145c41)]\n",
      "None\n",
      "\n",
      "1.0\n",
      "False\n",
      "\n",
      "         /-aaaaaaaaac\n",
      "      /-|\n",
      "     |   \\-aaaaaaaaad\n",
      "   /-|\n",
      "  |  |   /-aaaaaaaaae\n",
      "  |   \\-|\n",
      "  |      \\-aaaaaaaaaf\n",
      "  |\n",
      "--|      /-aaaaaaaaag\n",
      "  |   /-|\n",
      "  |  |   \\-aaaaaaaaah\n",
      "  |  |\n",
      "  |  |      /-aaaaaaaaai\n",
      "   \\-|   /-|\n",
      "     |  |  |   /-aaaaaaaaaj\n",
      "     |  |   \\-|\n",
      "     |  |      \\-aaaaaaaaak\n",
      "     |  |\n",
      "      \\-|      /-aaaaaaaaal\n",
      "        |   /-|\n",
      "        |  |  |   /-aaaaaaaaam\n",
      "        |  |   \\-|\n",
      "        |  |     |   /-aaaaaaaaan\n",
      "         \\-|      \\-|\n",
      "           |         \\-aaaaaaaaao\n",
      "           |\n",
      "           |   /-aaaaaaaaaa\n",
      "            \\-|\n",
      "               \\-aaaaaaaaab\n",
      "\n",
      "         /-aaaaaaaaac\n",
      "      /-|\n",
      "     |   \\-aaaaaaaaad\n",
      "   /-|\n",
      "  |  |   /-aaaaaaaaae\n",
      "  |   \\-|\n",
      "  |      \\-aaaaaaaaaf\n",
      "  |\n",
      "--|      /-aaaaaaaaag\n",
      "  |   /-|\n",
      "  |  |   \\-aaaaaaaaah\n",
      "  |  |\n",
      "  |  |      /-aaaaaaaaai\n",
      "   \\-|   /-|\n",
      "     |  |  |   /-aaaaaaaaaj\n",
      "     |  |   \\-|\n",
      "     |  |      \\-aaaaaaaaak\n",
      "     |  |\n",
      "      \\-|      /-aaaaaaaaal\n",
      "        |   /-|\n",
      "        |  |  |   /-aaaaaaaaam\n",
      "        |  |   \\-|\n",
      "        |  |     |   /-aaaaaaaaan\n",
      "         \\-|      \\-|\n",
      "           |         \\-aaaaaaaaao\n",
      "           |\n",
      "           |   /-aaaaaaaaaa\n",
      "            \\-|\n",
      "               \\-aaaaaaaaab\n",
      "\n",
      "         /-aaaaaaaaac\n",
      "      /-|\n",
      "     |   \\-aaaaaaaaad\n",
      "   /-|\n",
      "  |  |   /-aaaaaaaaae\n",
      "  |   \\-|\n",
      "  |      \\-aaaaaaaaaf\n",
      "  |\n",
      "--|      /-aaaaaaaaag\n",
      "  |   /-|\n",
      "  |  |   \\-aaaaaaaaah\n",
      "  |  |\n",
      "  |  |      /-aaaaaaaaai\n",
      "   \\-|   /-|\n",
      "     |  |  |   /-aaaaaaaaaj\n",
      "     |  |   \\-|\n",
      "     |  |      \\-aaaaaaaaak\n",
      "     |  |\n",
      "      \\-|      /-aaaaaaaaal\n",
      "        |   /-|\n",
      "        |  |  |   /-aaaaaaaaam\n",
      "        |  |   \\-|\n",
      "        |  |     |   /-aaaaaaaaan\n",
      "         \\-|      \\-|\n",
      "           |         \\-aaaaaaaaao\n",
      "           |\n",
      "           |   /-aaaaaaaaaa\n",
      "            \\-|\n",
      "               \\-aaaaaaaaab\n",
      "aaaaaaaaac\n",
      "aaaaaaaaad\n",
      "aaaaaaaaae\n",
      "aaaaaaaaaf\n",
      "aaaaaaaaag\n",
      "aaaaaaaaah\n",
      "aaaaaaaaai\n",
      "aaaaaaaaaj\n",
      "aaaaaaaaak\n",
      "aaaaaaaaal\n",
      "aaaaaaaaam\n",
      "aaaaaaaaan\n",
      "aaaaaaaaao\n",
      "aaaaaaaaaa\n",
      "aaaaaaaaab\n"
     ]
    }
   ],
   "source": [
    "t = Tree()\n",
    "# We create a random tree topology\n",
    "t.populate(15)\n",
    "print t\n",
    "print t.children\n",
    "print t.get_children()\n",
    "print t.up\n",
    "print t.name\n",
    "print t.dist\n",
    "print t.is_leaf()\n",
    "print t.get_tree_root()\n",
    "print t.children[0].get_tree_root()\n",
    "print t.children[0].children[0].get_tree_root()\n",
    "# You can also iterate over tree leaves using a simple syntax\n",
    "for leaf in t:\n",
    "  print leaf.name"
   ]
  },
  {
   "cell_type": "code",
   "execution_count": null,
   "metadata": {},
   "outputs": [],
   "source": []
  }
 ],
 "metadata": {
  "kernelspec": {
   "display_name": "Python 2",
   "language": "python",
   "name": "python2"
  },
  "language_info": {
   "codemirror_mode": {
    "name": "ipython",
    "version": 2
   },
   "file_extension": ".py",
   "mimetype": "text/x-python",
   "name": "python",
   "nbconvert_exporter": "python",
   "pygments_lexer": "ipython2",
   "version": "2.7.15"
  }
 },
 "nbformat": 4,
 "nbformat_minor": 2
}
