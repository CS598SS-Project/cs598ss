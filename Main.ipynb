{
 "cells": [
  {
   "cell_type": "code",
   "execution_count": 1,
   "metadata": {},
   "outputs": [],
   "source": [
    "%load_ext autoreload\n",
    "%autoreload 2"
   ]
  },
  {
   "cell_type": "code",
   "execution_count": 2,
   "metadata": {},
   "outputs": [],
   "source": [
    "import pandas as pd\n",
    "import numpy as np\n",
    "\n",
    "import DistanceLib\n",
    "import TreeLib\n",
    "import ClusterLib"
   ]
  },
  {
   "cell_type": "code",
   "execution_count": 3,
   "metadata": {},
   "outputs": [],
   "source": [
    "def calculate_wss(n, chosen_trees, centers):\n",
    "    wss = 0\n",
    "    for k in range(n):\n",
    "        cluster_k_rows = chosen_trees[chosen_trees.cluster==k]\n",
    "        cluster_k_trees = cluster_k_rows.apply(lambda x: trees[x.patient, x.good_tree], axis=1)\n",
    "        center = centers[k]\n",
    "        # cluster_k_distances[i] = distance between tree i and center\n",
    "        cluster_k_distances = cluster_k_trees.apply(lambda x: DistanceLib.distance_profile(x, center), axis=1)\n",
    "        wss += sum(cluster_k_distances)\n",
    "    return wss"
   ]
  },
  {
   "cell_type": "code",
   "execution_count": 6,
   "metadata": {
    "scrolled": true
   },
   "outputs": [],
   "source": [
    "trees = ClusterLib.trees\n",
    "\n",
    "n_range = range(1, 10)\n",
    "wss = []\n",
    "for i in n_range:\n",
    "    chosen_trees, centers, converged = ClusterLib.tree_kmeans(i)\n",
    "    wss.append(calculate_wss(i, chosen_trees, centers))\n",
    "\n",
    "# plot wss vs. # of clusters\n",
    "# choose the elbow as the \"optimal\" # of trees\n",
    "plt.plot(n_range, wss)"
   ]
  },
  {
   "cell_type": "code",
   "execution_count": null,
   "metadata": {},
   "outputs": [],
   "source": [
    "n = 2\n",
    "chosen_trees, centers, converged = tree_kmeans(n)"
   ]
  }
 ],
 "metadata": {
  "kernelspec": {
   "display_name": "Python 2",
   "language": "python",
   "name": "python2"
  },
  "language_info": {
   "codemirror_mode": {
    "name": "ipython",
    "version": 2
   },
   "file_extension": ".py",
   "mimetype": "text/x-python",
   "name": "python",
   "nbconvert_exporter": "python",
   "pygments_lexer": "ipython2",
   "version": "2.7.15"
  }
 },
 "nbformat": 4,
 "nbformat_minor": 2
}
