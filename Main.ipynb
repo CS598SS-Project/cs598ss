{
 "cells": [
  {
   "cell_type": "code",
   "execution_count": 1,
   "metadata": {},
   "outputs": [],
   "source": [
    "%load_ext autoreload\n",
    "%autoreload 2"
   ]
  },
  {
   "cell_type": "code",
   "execution_count": 2,
   "metadata": {},
   "outputs": [],
   "source": [
    "%time\n",
    "\n",
    "import pandas as pd\n",
    "import numpy as np\n",
    "import matplotlib.pyplot as plt\n",
    "import os\n",
    "\n",
    "import DistanceLib\n",
    "import TreeLib\n",
    "import ClusterLib"
   ]
  },
  {
   "cell_type": "code",
   "execution_count": 5,
   "metadata": {
    "scrolled": false
   },
   "outputs": [
    {
     "name": "stdout",
     "output_type": "stream",
     "text": [
      "\n",
      "1 cluster: \n",
      "0    88\n",
      "Name: cluster, dtype: int64\n",
      "iter 0, disagreement 45\n",
      "0    88\n",
      "Name: cluster, dtype: int64\n",
      "iter 1, disagreement 0\n",
      "\n",
      "2 cluster: \n",
      "0    51\n",
      "1    37\n",
      "Name: cluster, dtype: int64\n",
      "iter 0, disagreement 43\n",
      "0    59\n",
      "1    29\n",
      "Name: cluster, dtype: int64\n",
      "iter 1, disagreement 1\n",
      "\n",
      "3 cluster: \n",
      "2    32\n",
      "1    28\n",
      "0    28\n",
      "Name: cluster, dtype: int64\n",
      "iter 0, disagreement 43\n",
      "2    48\n",
      "0    21\n",
      "1    19\n",
      "Name: cluster, dtype: int64\n",
      "iter 1, disagreement 0\n",
      "\n",
      "4 cluster: \n",
      "3    26\n",
      "1    24\n",
      "2    20\n",
      "0    18\n",
      "Name: cluster, dtype: int64\n",
      "iter 0, disagreement 45\n",
      "3    42\n",
      "0    18\n",
      "1    16\n",
      "2    12\n",
      "Name: cluster, dtype: int64\n",
      "iter 1, disagreement 1\n",
      "\n",
      "5 cluster: \n",
      "0    20\n",
      "4    18\n",
      "3    18\n",
      "2    18\n",
      "1    14\n",
      "Name: cluster, dtype: int64\n",
      "iter 0, disagreement 48\n",
      "1    39\n",
      "4    14\n",
      "2    14\n",
      "0    12\n",
      "3     9\n",
      "Name: cluster, dtype: int64\n",
      "iter 1, disagreement 0\n",
      "\n",
      "6 cluster: \n",
      "3    20\n",
      "4    19\n",
      "0    15\n",
      "5    12\n",
      "2    11\n",
      "1    11\n",
      "Name: cluster, dtype: int64\n",
      "iter 0, disagreement 42\n",
      "1    39\n",
      "4    13\n",
      "3    12\n",
      "0    10\n",
      "5     7\n",
      "2     7\n",
      "Name: cluster, dtype: int64\n",
      "iter 1, disagreement 0\n",
      "\n",
      "7 cluster: \n",
      "2    16\n",
      "1    16\n",
      "5    14\n",
      "6    13\n",
      "3    10\n",
      "0    10\n",
      "4     9\n",
      "Name: cluster, dtype: int64\n",
      "iter 0, disagreement 44\n",
      "0    37\n",
      "1    13\n",
      "2    11\n",
      "6     9\n",
      "5     8\n",
      "3     7\n",
      "4     3\n",
      "Name: cluster, dtype: int64\n",
      "iter 1, disagreement 0\n",
      "\n",
      "8 cluster: \n",
      "5    18\n",
      "6    12\n",
      "0    12\n",
      "3    11\n",
      "7     9\n",
      "2     9\n",
      "1     9\n",
      "4     8\n",
      "Name: cluster, dtype: int64\n",
      "iter 0, disagreement 51\n",
      "6    39\n",
      "5    10\n",
      "3     9\n",
      "0     9\n",
      "1     6\n",
      "7     5\n",
      "4     5\n",
      "2     5\n",
      "Name: cluster, dtype: int64\n",
      "iter 1, disagreement 1\n",
      "\n",
      "9 cluster: \n",
      "7    15\n",
      "3    13\n",
      "2    11\n",
      "5    10\n",
      "4    10\n",
      "0    10\n",
      "6     8\n",
      "8     6\n",
      "1     5\n",
      "Name: cluster, dtype: int64\n",
      "iter 0, disagreement 43\n",
      "3    35\n",
      "7    10\n",
      "2     9\n",
      "5     8\n",
      "4     7\n",
      "6     6\n",
      "8     5\n",
      "0     5\n",
      "1     3\n",
      "Name: cluster, dtype: int64\n",
      "iter 1, disagreement 1\n"
     ]
    }
   ],
   "source": [
    "np.random.seed(42)\n",
    "\n",
    "trees = ClusterLib.trees\n",
    "\n",
    "n_range = range(1, 10)\n",
    "wss = []\n",
    "results = []\n",
    "for i in n_range:\n",
    "    print('\\n%d cluster: ' % i)\n",
    "    chosen_trees, centers, converged = ClusterLib.tree_kmeans(i)\n",
    "    results.append([chosen_trees, centers, converged])\n",
    "    wss.append(calculate_wss(i, chosen_trees, centers))"
   ]
  },
  {
   "cell_type": "code",
   "execution_count": 7,
   "metadata": {},
   "outputs": [
    {
     "data": {
      "text/plain": [
       "[<matplotlib.lines.Line2D at 0x122951ed0>]"
      ]
     },
     "execution_count": 7,
     "metadata": {},
     "output_type": "execute_result"
    },
    {
     "data": {
      "image/png": "[encoded data removed]",
      "text/plain": [
       "<Figure size 432x288 with 1 Axes>"
      ]
     },
     "metadata": {
      "needs_background": "light"
     },
     "output_type": "display_data"
    }
   ],
   "source": [
    "# plot wss vs. # of clusters\n",
    "# choose the elbow as the \"optimal\" # of trees\n",
    "plt.plot(n_range, wss)"
   ]
  },
  {
   "cell_type": "code",
   "execution_count": 12,
   "metadata": {
    "scrolled": false
   },
   "outputs": [],
   "source": [
    "num_cluster = 3\n",
    "chosen_trees = results[num_cluster-1][0]\n",
    "\n",
    "trees_to_visualize = []\n",
    "for i in range(num_cluster):\n",
    "    chosen_trees_this_cluster = chosen_trees[chosen_trees.cluster == i].copy()\n",
    "    trees_to_visualize.append(chosen_trees_this_cluster.sample(n=min(5, chosen_trees_this_cluster.shape[0])))\n",
    "\n",
    "for df in trees_to_visualize:\n",
    "    for index, row in df.iterrows():\n",
    "        TreeLib.save_Tree(trees[row.patient][row.good_tree], 'consistent') \n",
    "        TreeLib.save_Tree(trees[row.patient][np.random.randint(len(trees[row.patient]))], 'random')\n",
    "        os.system('dot -Tpdf output/%s_consistent.dot -o output/consistent/cluster%d_%s_consistent.pdf' % (row.patient, row.cluster, row.patient))\n",
    "        os.system('dot -Tpdf output/%s_random.dot -o output/random/cluster%d_%s_random.pdf' % (row.patient, row.cluster, row.patient))"
   ]
  },
  {
   "cell_type": "code",
   "execution_count": 8,
   "metadata": {},
   "outputs": [],
   "source": [
    "import gene_dict"
   ]
  },
  {
   "cell_type": "code",
   "execution_count": null,
   "metadata": {},
   "outputs": [],
   "source": [
    "gene_dict"
   ]
  },
  {
   "cell_type": "code",
   "execution_count": 4,
   "metadata": {},
   "outputs": [],
   "source": [
    "def calculate_wss(n, chosen_trees, centers):\n",
    "    wss = 0\n",
    "    for k in range(n):\n",
    "        cluster_k_rows = chosen_trees[chosen_trees.cluster==k]\n",
    "        cluster_k_trees = cluster_k_rows.apply(lambda x: trees[x.patient][x.good_tree], axis=1)\n",
    "        center = centers[k]\n",
    "        # cluster_k_distances[i] = distance between tree i and center\n",
    "        cluster_k_distances = [DistanceLib.distance_profile(x, center) for x in cluster_k_trees]      \n",
    "        wss += sum(cluster_k_distances)\n",
    "    return wss"
   ]
  }
 ],
 "metadata": {
  "kernelspec": {
   "display_name": "Python 2",
   "language": "python",
   "name": "python2"
  },
  "language_info": {
   "codemirror_mode": {
    "name": "ipython",
    "version": 2
   },
   "file_extension": ".py",
   "mimetype": "text/x-python",
   "name": "python",
   "nbconvert_exporter": "python",
   "pygments_lexer": "ipython2",
   "version": "2.7.15"
  }
 },
 "nbformat": 4,
 "nbformat_minor": 2
}
